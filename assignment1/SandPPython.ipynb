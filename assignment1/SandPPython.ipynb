{
  "cells": [
    {
      "cell_type": "markdown",
      "metadata": {
        "id": "EPjC9pMMcHV2"
      },
      "source": [
        "Based on https://nbviewer.jupyter.org/url/pages.physics.cornell.edu/~sethna/StatMech/HintsAndMaterials/SandPHintsPython.ipynb with modifications\n",
        "\n",
        "<H1>Stocks, volatility, and diversification</H1>\n",
        "\n",
        "(Sethna, \"Entropy, Order Parameters, and Complexity\", ex. 2.11)"
      ]
    },
    {
      "cell_type": "markdown",
      "metadata": {
        "id": "_LFwT3ljcHV4"
      },
      "source": [
        "The Standard and Poor's 500 Index is a weighted average of the prices of five hundred large companies in the United States stock market. In this actiivty, you will analyze daily data on this index from the last 30 years to compare it to a random walk process.\n",
        "\n",
        "Make sure you download SandPConstantDollars.dat from the Sethna exercises Web site, http://pages.physics.cornell.edu/~sethna/StatMech/HintsAndMaterials/SandPConstantDollars.dat. Each line represents the value of the index on a working weekday. The first column is time $t$ in days since mid-October 1982, and the second column is the Standard and Poor's index $SP(t)$ for that day, corrected for inflation.\n",
        "\n",
        "Import packages"
      ]
    },
    {
      "cell_type": "code",
      "execution_count": 24,
      "metadata": {
        "colab": {
          "base_uri": "https://localhost:8080/",
          "height": 33
        },
        "id": "MAaBFsMScHV5",
        "outputId": "73df7e70-fcd7-4f90-9120-f3ad32047f16"
      },
      "outputs": [],
      "source": [
        "import numpy as np\n",
        "import matplotlib.pyplot as plt"
      ]
    },
    {
      "cell_type": "markdown",
      "metadata": {
        "id": "4h099DoncHV8"
      },
      "source": [
        "Read in the file of Standard and Poor's average stock price (SP) in constant dollars (corrected for inflation), versus time t \n",
        "\n",
        "Convert from \"list\" to \"array\" form (arrays can be multiplied and added, etc.)"
      ]
    },
    {
      "cell_type": "code",
      "execution_count": 25,
      "metadata": {
        "colab": {
          "base_uri": "https://localhost:8080/",
          "height": 102
        },
        "id": "BkjqxcwzcHV9",
        "outputId": "c0373812-877b-47ee-a80a-bff9d22867ec"
      },
      "outputs": [],
      "source": [
        "t, SP = np.array(np.loadtxt(\"SandPConstantDollars.dat\").transpose())"
      ]
    },
    {
      "cell_type": "markdown",
      "metadata": {
        "id": "omZoec4_cHV_"
      },
      "source": [
        "\n",
        "#1. Plot SP versus t\n",
        "\n",
        "You can plot a subset of the data using 'slicing': for a list or array v, v[m:n] gives back the elements in the range [m,n) -- starting at m and ending at n-1. \n",
        "\n",
        "**Q: For fun, examine the data around the month of your birth.**"
      ]
    },
    {
      "cell_type": "code",
      "execution_count": 32,
      "metadata": {},
      "outputs": [
        {
          "data": {
            "text/plain": [
              "[<matplotlib.lines.Line2D at 0x283c18f23a0>]"
            ]
          },
          "execution_count": 32,
          "metadata": {},
          "output_type": "execute_result"
        },
        {
          "data": {
            "image/png": "[encoded data removed]",
            "text/plain": [
              "<Figure size 432x288 with 1 Axes>"
            ]
          },
          "metadata": {
            "needs_background": "light"
          },
          "output_type": "display_data"
        }
      ],
      "source": [
        "#my b-day = 07/10/2000 = roughly 18 years after it started = 18*365 = 6570\n",
        "#subtract 15 and add 15 to get the month with the date in the middle\n",
        "\n",
        "nt = []\n",
        "nSP = []\n",
        "for i,j in zip(t,SP):\n",
        "    if i>6555 and i<6585:\n",
        "        nt.append(i)\n",
        "        nSP.append(j)\n",
        "\n",
        "plt.plot(nt,nSP)"
      ]
    },
    {
      "cell_type": "markdown",
      "metadata": {
        "id": "IBUqi-AncHWC"
      },
      "source": [
        "# 2. Calculate percentage changes \n",
        "\n",
        "To compare this data to a random walk, we need to descsribe the steps of the walk. What is the distribution of step sizes in stock prices? This depends on how we define a step; do we ask how much it has changed after a year, a month, a week, or a day? A technical question arises: do we measure time in days, or trading days. We shall follow the finance community, and consider only trading days. \n",
        "\n",
        "Furthermore, instead of considering the absolute change in price, we will consider a random walk where the value changes by a percentage of it's previous value. A simple example of this would be a random walk where with 50% probability, we either add 1% to the previous day's price or subtract 1% from the previous day's price (technically, this is a standard random walk in the *logarithm* of the price). This simple model would be a bad fit to the S&P index, but we can use the data we have to try to understand how a random walk model could be a better fit!\n",
        "\n",
        "**Q: Define a function P(l) that calculates from the data the *percentage change* in the S&P index after a 'lag' of l trading days. For example, P(1) should give a list of the % change on each day from the previous trading day.**\n",
        "\n",
        "### Note about optimal way to use scipy/numpy to do these calculations:\n",
        "Use slicing to do all the comparisons in one array operation.\n",
        "    For a list or array v, v[m:n] gives back the elements in the range [m,n) \n",
        "    -- starting at m and ending at n-1. Python also makes the useful convention\n",
        "    that v[:,n] starts at the beginning of the list, v[m:] ends at the end, and \n",
        "    v[:,-p] 'drops' the last p elements.\n",
        "     \n",
        "Also use the scipy convention that arithmetic acts element-by-element on arrays. So for two\n",
        "arrays w and v of the same length, \n",
        "\n",
        "    w*v = array([w[0]*v[0],w[1]*v[1], ...]), \n",
        "    \n",
        "and similarly for w/v, w+v, and w-v. (The last two are the same as the math conventions for vectors.) Also, adding and subtracting scalars from arrays is done elementwise, so \n",
        "\n",
        "    v+5 = array([v[0]+5, v[1]+5, ...]).\n",
        "\n",
        "Loops are very slow in interpreted languages like Python, so learning to do things with array operations like these is strongly recommended."
      ]
    },
    {
      "cell_type": "code",
      "execution_count": 54,
      "metadata": {
        "id": "AMIlW8hWcHWD"
      },
      "outputs": [],
      "source": [
        "def P(lag, data):\n",
        "   \"\"\"\n",
        "   Function which returns a list of percentage changes after a number\n",
        "   \"lag\" of trading days. \n",
        "   P(1) gives the daily percentage changes, P(5) the weekly changes, P(20) the monthly, P(252) the yearly changes, etc.\n",
        "   \n",
        "   To find the ratio of values of an array v of length N after a shift of t, one could use\n",
        "       v[t:N]/v[0:N-t]\n",
        "   or\n",
        "       v[t:]/v[:-t]\n",
        "   \"\"\"\n",
        "   ratios = data[lag:]/data[:-lag]\n",
        "   P = (ratios-1)*100\n",
        "   return P"
      ]
    },
    {
      "cell_type": "markdown",
      "metadata": {
        "id": "f3KjKUQycHWE"
      },
      "source": [
        "# 3. Distribution of percentage changes\n",
        "\n",
        "**Q: We now want to study the distributions of daily, weekly, monthly, and yearly changes in price over our dataset.**\n",
        "\n",
        "a) **Plot a normed histogram using 50 bins for daily, weekly, monthly, and yearly percentage changes.**\n",
        "\n",
        "b) **Calculate the mean and standard deviation for each distribution.**\n",
        "\n",
        "c) A simple random walk model for this data is that the daily steps are drawn independently and at random from the observed daily distribution. **Calculate the distribution you would expect for the *monthly* changes in this model of the data. Does the *observed* distribution of monthly changes agree with this model?**\n",
        "\n"
      ]
    },
    {
      "cell_type": "code",
      "execution_count": 55,
      "metadata": {
        "id": "sSIW-3EqcHWF"
      },
      "outputs": [
        {
          "name": "stdout",
          "output_type": "stream",
          "text": [
            "mean for P=252:  7.7487031027622475\n",
            "standard deviation for P=252:  15.723439026075111\n"
          ]
        },
        {
          "data": {
            "image/png": "[encoded data removed]",
            "text/plain": [
              "<Figure size 432x288 with 1 Axes>"
            ]
          },
          "metadata": {
            "needs_background": "light"
          },
          "output_type": "display_data"
        },
        {
          "name": "stdout",
          "output_type": "stream",
          "text": [
            "mean for P=20:  0.6132049633650821\n",
            "standard deviation for P=20:  4.308953983847522\n"
          ]
        },
        {
          "data": {
            "image/png": "[encoded data removed]",
            "text/plain": [
              "<Figure size 432x288 with 1 Axes>"
            ]
          },
          "metadata": {
            "needs_background": "light"
          },
          "output_type": "display_data"
        },
        {
          "name": "stdout",
          "output_type": "stream",
          "text": [
            "mean for P=5:  0.1560769616720594\n",
            "standard deviation for P=5:  2.291749421353568\n"
          ]
        },
        {
          "data": {
            "image/png": "[encoded data removed]",
            "text/plain": [
              "<Figure size 432x288 with 1 Axes>"
            ]
          },
          "metadata": {
            "needs_background": "light"
          },
          "output_type": "display_data"
        },
        {
          "name": "stdout",
          "output_type": "stream",
          "text": [
            "mean for P=1:  0.03114818458893953\n",
            "standard deviation for P=1:  1.0606483448236002\n"
          ]
        },
        {
          "data": {
            "image/png": "[encoded data removed]",
            "text/plain": [
              "<Figure size 432x288 with 1 Axes>"
            ]
          },
          "metadata": {
            "needs_background": "light"
          },
          "output_type": "display_data"
        }
      ],
      "source": [
        "p = P(252, SP)\n",
        "print('mean for P=252: ', np.mean(p))\n",
        "print('standard deviation for P=252: ', np.std(p))\n",
        "plt.hist(p, bins=50, density=True)\n",
        "plt.show()\n",
        "\n",
        "p = P(20, SP)\n",
        "print('mean for P=20: ', np.mean(p))\n",
        "print('standard deviation for P=20: ', np.std(p))\n",
        "plt.hist(p, bins=50, density=True)\n",
        "plt.show()\n",
        "\n",
        "p = P(5, SP)\n",
        "print('mean for P=5: ', np.mean(p))\n",
        "print('standard deviation for P=5: ', np.std(p))\n",
        "plt.hist(p, bins=50, density=True)\n",
        "plt.show()\n",
        "\n",
        "p = P(1, SP)\n",
        "print('mean for P=1: ', np.mean(p))\n",
        "print('standard deviation for P=1: ', np.std(p))\n",
        "plt.hist(p, bins=50, density=True)\n",
        "plt.show()"
      ]
    },
    {
      "cell_type": "code",
      "execution_count": 79,
      "metadata": {},
      "outputs": [
        {
          "name": "stdout",
          "output_type": "stream",
          "text": [
            "mean for P=20:  0.16154062818795598\n",
            "standard deviation for P=20:  4.375821258473223\n"
          ]
        },
        {
          "data": {
            "image/png": "[encoded data removed]",
            "text/plain": [
              "<Figure size 432x288 with 1 Axes>"
            ]
          },
          "metadata": {
            "needs_background": "light"
          },
          "output_type": "display_data"
        }
      ],
      "source": [
        "def random_walk(n, start):\n",
        "    l = [start]\n",
        "    for i in range(n):\n",
        "        l.append(l[i]*np.random.choice([0.99,1.01],1)[0])\n",
        "    return np.array(l)\n",
        "\n",
        "p = P(20, random_walk(10000, 1))\n",
        "print('mean for P=20: ', np.mean(p))\n",
        "print('standard deviation for P=20: ', np.std(p))\n",
        "plt.hist(p, bins=50, density=True)\n",
        "plt.show()"
      ]
    },
    {
      "cell_type": "markdown",
      "metadata": {},
      "source": [
        "It looks rally similar, normally distributed around 0 with std around 4. I would say that it agrees <br>\n",
        "\n",
        "Also, I changed everything to numpy and matplotlib instead of scipy cause most of those functions are getting discontinued, so the might not work soon"
      ]
    },
    {
      "cell_type": "markdown",
      "metadata": {
        "id": "A_YKOncwKi0N"
      },
      "source": [
        "# 5. #CoarseGraining\n",
        "\n",
        "**Q:Write a short paragraph about how coarse-graining and universality were relevant to this problem.**\n",
        "\n",
        "For this problem, we are getting a very complex thing (stocks), and taking only the relative changes over time as our couse grained variable to analyse the system and compare it to a random walk. The fact that we got a very similar result, by simply performing a random walk, shows how universal this concept is, specialy taking in consideration that the results look normaly distributed, relates to the universality of the central limit theorem"
      ]
    },
    {
      "cell_type": "markdown",
      "metadata": {},
      "source": []
    }
  ],
  "metadata": {
    "colab": {
      "collapsed_sections": [],
      "name": "SandPPython.ipynb",
      "provenance": []
    },
    "kernelspec": {
      "display_name": "Python 3",
      "language": "python",
      "name": "python3"
    },
    "language_info": {
      "codemirror_mode": {
        "name": "ipython",
        "version": 3
      },
      "file_extension": ".py",
      "mimetype": "text/x-python",
      "name": "python",
      "nbconvert_exporter": "python",
      "pygments_lexer": "ipython3",
      "version": "3.8.8"
    }
  },
  "nbformat": 4,
  "nbformat_minor": 0
}
