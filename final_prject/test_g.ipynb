{
 "cells": [
  {
   "cell_type": "code",
   "execution_count": 42,
   "metadata": {},
   "outputs": [],
   "source": [
    "class Particle:\n",
    "    def __init__(self, mass, posx, posy, vx=0, vy=0):\n",
    "        self.m = mass\n",
    "        self.x = posx\n",
    "        self.y = posy\n",
    "\n",
    "        self.vx = vx\n",
    "        self.vy = vy\n",
    "        self.fx = 0\n",
    "        self.fy = 0\n",
    "\n",
    "\n",
    "class sim:\n",
    "    def __init__(self, particles, G=1):\n",
    "        self.state = particles\n",
    "        self.G = G\n",
    "        self.posList = [[[i.x, i.y] for i in particles]]\n",
    "\n",
    "    def update_g(self):\n",
    "        for particle in self.state:\n",
    "            fx = 0\n",
    "            fy = 0\n",
    "            for neighbor in self.state:\n",
    "                if particle != neighbor:\n",
    "                    dx = neighbor.x - particle.x\n",
    "                    dy = neighbor.y - particle.y\n",
    "                    d = (dx**2 + dy**2)**(1/2)\n",
    "\n",
    "                    f = self.G*((particle.m*neighbor.m)/(d**2))\n",
    "\n",
    "                    fx += f*(dy/d)\n",
    "                    fy += f*(dx/d)\n",
    "                    \n",
    "            particle.fx = fx\n",
    "            particle.fy = fy\n",
    "    \n",
    "    def update_v(self, dt):\n",
    "        for particle in self.state:\n",
    "            particle.vx += dt*(particle.fx/particle.m)\n",
    "            particle.vy += dt*(particle.fy/particle.m)\n",
    "\n",
    "    def update_pos(self, dt):\n",
    "        for particle in self.state:\n",
    "            particle.x += dt*particle.vx\n",
    "            particle.y += dt*particle.vy\n",
    "\n",
    "    def update_system(self, dt):\n",
    "        self.update_g()\n",
    "        self.update_v(dt)\n",
    "        self.update_pos(dt)\n",
    "        self.posList.append([[i.x, i.y] for i in self.state])\n",
    "\n",
    "    \n"
   ]
  },
  {
   "cell_type": "code",
   "execution_count": 50,
   "metadata": {},
   "outputs": [
    {
     "name": "stdout",
     "output_type": "stream",
     "text": [
      "here is first frame, when ready may need to click 'fetch additional output' to watch movie:\n"
     ]
    },
    {
     "data": {
      "image/png": "[encoded data removed]",
      "text/plain": [
       "<Figure size 288x288 with 1 Axes>"
      ]
     },
     "metadata": {
      "needs_background": "light"
     },
     "output_type": "display_data"
    },
    {
     "name": "stderr",
     "output_type": "stream",
     "text": [
      "MovieWriter ffmpeg unavailable; using Pillow instead.\n"
     ]
    },
    {
     "name": "stdout",
     "output_type": "stream",
     "text": [
      "./tmp_v9cxx5n.gif\n"
     ]
    },
    {
     "data": {
      "text/html": [
       "\n",
       "                <image style=\"width:200\" src=\"./tmp_v9cxx5n.gif\" >\n",
       "                "
      ],
      "text/plain": [
       "<IPython.core.display.HTML object>"
      ]
     },
     "metadata": {},
     "output_type": "display_data"
    }
   ],
   "source": [
    "import matplotlib.pyplot as plt\n",
    "import numpy as np\n",
    "\n",
    "import time\n",
    "\n",
    "from matplotlib import animation\n",
    "from IPython.display import HTML\n",
    "import tempfile; tempfile.tempdir='./'\n",
    "\n",
    "def animate(poslist_frames,Ratom_anim = 0.003, lims=(-10,10)):\n",
    "    poslist_frames = np.array(poslist_frames)\n",
    "\n",
    "    # Generate animation\n",
    "    width = 4 # width of plot in inches\n",
    "\n",
    "    # set-up figure and ax\n",
    "    fig, ax = plt.subplots(figsize=(width,width))\n",
    "    ax.set_xlim((lims[0], lims[1]))\n",
    "    ax.set_ylim((lims[0], lims[1]))\n",
    "\n",
    "    # convert atom size to figure units\n",
    "    t = ax.transAxes.transform([(0,0), (Ratom_anim,Ratom_anim)])\n",
    "    Ratom_pts = (t[1,1]-t[0,0]) * 72/fig.dpi\n",
    "    s_circ = (Ratom_pts * 2)**2\n",
    "\n",
    "    def init_model():\n",
    "        ax.set_xlim((lims[0], lims[1]))\n",
    "        ax.set_ylim((lims[0], lims[1]))\n",
    "        simgraph = ax.scatter([], [])\n",
    "        return (simgraph,)\n",
    "\n",
    "    def animate_model(i):\n",
    "        ax.clear()\n",
    "        ax.set_xlim((lims[0], lims[1]))\n",
    "        ax.set_ylim((lims[0], lims[1]))\n",
    "        simgraph = ax.scatter(poslist_frames[i][:,0], poslist_frames[i][:,1], s=s_circ)\n",
    "        return (simgraph,)\n",
    "\n",
    "    print(\"here is first frame, when ready may need to click 'fetch additional output' to watch movie:\")\n",
    "    animate_model(1)\n",
    "    plt.show()\n",
    "\n",
    "    # run to generate the html5 video of the positions\n",
    "    # (takes about 30s for 100 frames)\n",
    "    # click 'Fetch additional output to see'\n",
    "    anim = animation.FuncAnimation(fig, animate_model, init_func=init_model,\n",
    "                                  frames=len(poslist_frames), interval=40)\n",
    "    \n",
    "    \n",
    "    fname = tempfile.mktemp('.gif')\n",
    "    print(fname)\n",
    "    anim.save(fname)\n",
    "    time.sleep(0.1) # make sure file is saved\n",
    "    return display(HTML(\"\"\"\n",
    "                <image style=\"width:200\" src=\"{}\" >\n",
    "                \"\"\".format(fname)))\n",
    "\n",
    "\n",
    "Ratom = 0.03 # meters -- grossly exagerated\n",
    "L = 1 # meters\n",
    "\n",
    "\n",
    "simu = sim([Particle(200,0,0), Particle(10,0,10,2,0)])\n",
    "dt = 0.1\n",
    "for _ in range(100):\n",
    "    simu.update_system(dt)\n",
    "\n",
    "p = simu.posList\n",
    "\n",
    "animate(p, Ratom_anim=Ratom, lims=(-20,20))"
   ]
  },
  {
   "cell_type": "code",
   "execution_count": 20,
   "metadata": {},
   "outputs": [
    {
     "data": {
      "text/plain": [
       "array([ 0., 10.])"
      ]
     },
     "execution_count": 20,
     "metadata": {},
     "output_type": "execute_result"
    }
   ],
   "source": []
  },
  {
   "cell_type": "code",
   "execution_count": null,
   "metadata": {},
   "outputs": [],
   "source": []
  }
 ],
 "metadata": {
  "interpreter": {
   "hash": "ea4ccc951e668b3195aa8f7cc9a4ade9f2550dae6498a131c5c502cc2f40fdfa"
  },
  "kernelspec": {
   "display_name": "Python 3.8.8 ('base')",
   "language": "python",
   "name": "python3"
  },
  "language_info": {
   "codemirror_mode": {
    "name": "ipython",
    "version": 3
   },
   "file_extension": ".py",
   "mimetype": "text/x-python",
   "name": "python",
   "nbconvert_exporter": "python",
   "pygments_lexer": "ipython3",
   "version": "3.8.8"
  },
  "orig_nbformat": 4
 },
 "nbformat": 4,
 "nbformat_minor": 2
}
