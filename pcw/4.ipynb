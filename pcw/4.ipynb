{
  "cells": [
    {
      "cell_type": "markdown",
      "metadata": {
        "id": "4bba5F_BDsy9"
      },
      "source": [
        "# Coarse-graining the Ideal Gas\n",
        "\n",
        "Briefly look at the code for the ideal gas simulator and use the code to visualize it with a movie, then move on to making the plots and answering the questions in the Coarse-Graining Density section. Work together and be prepared to use your plots to answer questions in the debrief."
      ]
    },
    {
      "cell_type": "code",
      "execution_count": null,
      "metadata": {
        "id": "EkQnGpz9E91e"
      },
      "outputs": [],
      "source": [
        "import numpy as np\n",
        "from numpy.random import random\n",
        "from numpy import sqrt, sin,cos, pi, array, dot\n",
        "import matplotlib.pyplot as plt\n",
        "import matplotlib\n",
        "import scipy.stats\n",
        "\n",
        "import time\n",
        "from time import clock\n",
        "\n",
        "from matplotlib import animation, rc\n",
        "from IPython.display import HTML\n",
        "import tempfile; tempfile.tempdir='./'\n",
        "\n",
        "try:\n",
        "  import google.colab\n",
        "  IN_COLAB = True\n",
        "except:\n",
        "  IN_COLAB = False"
      ]
    },
    {
      "cell_type": "markdown",
      "metadata": {
        "id": "WfLUGNnMFRqf"
      },
      "source": [
        "## Ideal gas simulator"
      ]
    },
    {
      "cell_type": "code",
      "execution_count": null,
      "metadata": {
        "id": "My60FcyZFUg3"
      },
      "outputs": [],
      "source": [
        "# modified from https://github.com/vpython/visual/blob/master/examples/gas.py\n",
        "# converted to 2d, switched to pure numpy functions, visualization using matplotlib instead of vpython\n",
        "\n",
        "# A model of an ideal gas with hard-sphere collisions\n",
        "# Program uses Numeric Python arrays for high speed computations\n",
        "k = 1.4E-23 # Boltzmann constant\n",
        "Matom = 4E-3/6E23 # helium mass in kg\n",
        "\n",
        "def simulate_gas(Natoms=1000, Nframes=500,  T=300, L=1, Ratom=0.003,dt=1E-5, start_half=False):\n",
        "# A model of an ideal gas with hard-sphere collisions\n",
        "# Nframes is number of timesteps of dt to simulate\n",
        "# T is temperature in K, L is box size in m, Ratom is atom radius in m, dt is timestep in seconds\n",
        "# Returns poslist_frames -- list of postions of all atoms at each frame\n",
        "#         plist_frames -- list of corresponding momenta of all atoms at each frame\n",
        "#         wall_dp_frames -- sum of absolute value of momenta transfer to all 4 walls during each frame\n",
        "    poslist = []\n",
        "    plist = []\n",
        "    mlist = []\n",
        "    rlist = []\n",
        "\n",
        "    # initialize the positions of the atoms\n",
        "    for i in range(Natoms):\n",
        "        Lmin = 1.1*Ratom\n",
        "        Lmax = L-Lmin\n",
        "        if (start_half): # start all of the atoms on the LHS of the box\n",
        "          x = Lmin+0.5*(Lmax-Lmin)*random()\n",
        "          y = Lmin+(Lmax-Lmin)*random()\n",
        "        else:\n",
        "          x = Lmin+(Lmax-Lmin)*random()\n",
        "          y = Lmin+(Lmax-Lmin)*random()\n",
        "    #   z = Lmin+(Lmax-Lmin)*random()\n",
        "        r = Ratom\n",
        "        mass = Matom*r**3/Ratom**3 # only would matter if we had different atom sizes\n",
        "        pavg = sqrt(2.*mass*1.*k*T) # average kinetic energy p**2/(2mass) = (2/2)kT (2d gas)\n",
        "        phi = 2*pi*random()\n",
        "        px = pavg*cos(phi)\n",
        "        py = pavg*sin(phi)\n",
        "    #    pz = pavg*cos(theta)\n",
        "        poslist.append((x,y))\n",
        "        plist.append((px,py))\n",
        "        mlist.append(mass)\n",
        "        rlist.append(r)\n",
        "\n",
        "    pos = array(poslist)\n",
        "    p = array(plist)\n",
        "    m = array(mlist)\n",
        "    m.shape = (Natoms,1) # Numeric Python: (1 by Natoms) vs. (Natoms by 1)\n",
        "    radius = array(rlist)\n",
        "\n",
        "    t = 0.0\n",
        "    Nsteps = 0\n",
        "    pos = pos+(p/m)*(dt/2.) # initial half-step\n",
        "    time = clock()\n",
        "\n",
        "    poslist_frames = [pos];\n",
        "    plist_frames = [p];\n",
        "    wall_dp_frames = [0];\n",
        "\n",
        "    while (Nsteps < Nframes):\n",
        "        # Update all positions\n",
        "        pos = pos+(p/m)*dt\n",
        "\n",
        "        r = pos-pos[:,np.newaxis] # all pairs of atom-to-atom vectors\n",
        "        rmag = sqrt(np.sum(r*r,-1)) # atom-to-atom scalar distances\n",
        "        hit = np.less_equal(rmag,radius+radius[:,np.newaxis])-np.identity(Natoms)\n",
        "        hitlist = np.sort(np.nonzero(hit.flatten())).tolist()[0]# i,j encoded as i*Natoms+j    \n",
        "        # If any collisions took place:\n",
        "\n",
        "        hitlist_nodups = hitlist\n",
        "        for ij in hitlist:\n",
        "            i, j = np.divmod(ij,Natoms) # decode atom pair\n",
        "            hitlist_nodups.remove(j*Natoms+i) # remove symmetric j,i pair from list\n",
        "\n",
        "        for ij in hitlist_nodups:\n",
        "            i, j = np.divmod(ij,Natoms) # decode atom pair\n",
        "            #print(i,j, np.sqrt(np.sum((pos[i]-pos[j])**2)))\n",
        "            ptot = p[i]+p[j]\n",
        "            mi = m[i,0]\n",
        "            mj = m[j,0]\n",
        "            vi = p[i]/mi\n",
        "            vj = p[j]/mj\n",
        "            ri = radius[i]\n",
        "            rj = radius[j]\n",
        "            a = np.linalg.norm(vj-vi)**2\n",
        "            if a == 0: continue # exactly same velocities\n",
        "            b = 2*dot(pos[i]-pos[j],vj-vi)\n",
        "            c = np.linalg.norm(pos[i]-pos[j])**2-(ri+rj)**2\n",
        "            d = b**2-4.*a*c\n",
        "            if d < 0: continue # something wrong; ignore this rare case\n",
        "            deltat = (-b+sqrt(d))/(2.*a) # t-deltat is when they made contact\n",
        "            pos[i] = pos[i]-(p[i]/mi)*deltat # back up to contact configuration\n",
        "            pos[j] = pos[j]-(p[j]/mj)*deltat\n",
        "            mtot = mi+mj\n",
        "            pcmi = p[i]-ptot*mi/mtot # transform momenta to cm frame\n",
        "            pcmj = p[j]-ptot*mj/mtot\n",
        "            rrel = (pos[j]-pos[i])/np.linalg.norm(pos[j]-pos[i])\n",
        "            #print(pcmi,pcmj, rrel)\n",
        "            #print(dot(pcmi,rrel))\n",
        "            pcmi = pcmi-2*dot(pcmi,rrel)*rrel # bounce in cm frame\n",
        "            pcmj = pcmj-2*dot(pcmj,rrel)*rrel\n",
        "            #print(pcmi,pcmj)\n",
        "            #print(p[i],p[j],pos[i],pos[j])\n",
        "            p[i] = pcmi+ptot*mi/mtot # transform momenta back to lab frame\n",
        "            p[j] = pcmj+ptot*mj/mtot\n",
        "            pos[i] = pos[i]+(p[i]/mi)*deltat # move forward deltat in time\n",
        "            pos[j] = pos[j]+(p[j]/mj)*deltat\n",
        "            #print(p[i],p[j],pos[i],pos[j])\n",
        "\n",
        "\n",
        "        # Bounce off walls\n",
        "        wall_dp = 0\n",
        "\n",
        "        outside = np.less_equal(pos,Ratom) # walls closest to origin\n",
        "        p1 = p*outside\n",
        "        pnew = p-p1+abs(p1)\n",
        "        wall_dp += np.sum(abs(p - pnew)) #calculate contributions to pressure        \n",
        "        p = pnew # force p component inward\n",
        "\n",
        "        outside = np.greater_equal(pos,L-Ratom) # walls farther from origin\n",
        "        p1 = p*outside\n",
        "        pnew = p-p1-abs(p1) # force p component inward\n",
        "        wall_dp += np.sum(abs(p - pnew)) #calculate contributions to pressure        \n",
        "        p = pnew # force p component inward\n",
        "\n",
        "        poslist_frames.append(pos) # save the positions for this frame\n",
        "        wall_dp_frames.append(wall_dp) # save the momentum transfer to the wall\n",
        "        plist_frames.append(p)\n",
        "\n",
        "        Nsteps = Nsteps+1\n",
        "        t = t+dt\n",
        "\n",
        "        if Nsteps%50==0:\n",
        "            print('%3.1f seconds for %d steps with %d Atoms' % (clock()-time, Nsteps, Natoms))\n",
        "    ##    rate(30)\n",
        "\n",
        "    return poslist_frames, plist_frames, wall_dp_frames"
      ]
    },
    {
      "cell_type": "markdown",
      "metadata": {
        "id": "pX-2UAbDF2UE"
      },
      "source": [
        "## Simulator animations\n",
        "\n",
        "You can verify that the simulator is working by creating a movie of it's time updates, no need to write any code here."
      ]
    },
    {
      "cell_type": "code",
      "execution_count": null,
      "metadata": {
        "id": "1_SaTulJFp9v"
      },
      "outputs": [],
      "source": [
        "# matplotlib jupyter animations based on http://louistiao.me/posts/notebooks/embedding-matplotlib-animations-in-jupyter-notebooks/\n",
        "\n",
        "def animate_gas(poslist_frames,Ratom_anim = 0.003, L_anim = 1):\n",
        "    # Generate animation\n",
        "    width = 4 # width of plot in inches\n",
        "\n",
        "    # set-up figure and ax\n",
        "    fig, ax = plt.subplots(figsize=(width,width))\n",
        "    ax.set_xlim((0, 1))\n",
        "    ax.set_ylim((0, 1))\n",
        "    simgraph = ax.scatter([], [])\n",
        "\n",
        "    # convert atom size to figure units\n",
        "    t = ax.transAxes.transform([(0,0), (Ratom_anim,Ratom_anim)])\n",
        "    Ratom_pts = (t[1,1]-t[0,0]) * 72/fig.dpi\n",
        "    s_circ = (Ratom_pts * 2)**2\n",
        "\n",
        "    def init_model():\n",
        "        ax.set_xlim((0, 1))\n",
        "        ax.set_ylim((0, 1))\n",
        "        simgraph = ax.scatter([], [])\n",
        "        return (simgraph,)\n",
        "\n",
        "    def animate_model(i):\n",
        "        ax.clear()\n",
        "        ax.set_xlim((0, 1))\n",
        "        ax.set_ylim((0, 1))\n",
        "        simgraph = ax.scatter(poslist_frames[i][:,0], poslist_frames[i][:,1], s=s_circ)\n",
        "        return (simgraph,)\n",
        "\n",
        "    print(\"here is first frame, when ready may need to click 'fetch additional output' to watch movie:\")\n",
        "    animate_model(1)\n",
        "    plt.show()\n",
        "\n",
        "    # run to generate the html5 video of the positions\n",
        "    # (takes about 30s for 100 frames)\n",
        "    # click 'Fetch additional output to see'\n",
        "    anim = animation.FuncAnimation(fig, animate_model, init_func=init_model,\n",
        "                                  frames=len(poslist_frames), interval=40)\n",
        "    \n",
        "    if IN_COLAB: # colab\n",
        "      return HTML(anim.to_html5_video())\n",
        "    else: # cocalc\n",
        "      fname = tempfile.mktemp('.mp4')\n",
        "      print(fname)\n",
        "      anim.save(fname)\n",
        "      time.sleep(0.1) # make sure file is saved\n",
        "      return display(HTML(\"\"\"\n",
        "                  <video width=200 controls>\n",
        "                        <source src=\"{}\" type=\"video/mp4\">\n",
        "                  </video>\n",
        "                  \"\"\".format(fname)))\n"
      ]
    },
    {
      "cell_type": "code",
      "execution_count": null,
      "metadata": {
        "id": "ucL4Fq9bQxQr"
      },
      "outputs": [],
      "source": [
        "# example:\n",
        "\n",
        "Natoms = 100\n",
        "Nframes = 100\n",
        "\n",
        "Ratom = 0.003\n",
        "L = 1\n",
        "\n",
        "# Run the model\n",
        "poslist_frames, plist_frames, wall_dp_frames = simulate_gas(Natoms=Natoms, Nframes=Nframes, Ratom=Ratom, L = L)\n",
        "\n",
        "animate_gas(poslist_frames[:100], Ratom_anim=Ratom, L_anim = L) # best practice, only visualize 100 frames or movie takes a long time to generate"
      ]
    },
    {
      "cell_type": "markdown",
      "metadata": {
        "id": "6VWsFhbsGy5b"
      },
      "source": [
        "## Get data from simulation and visualize\n"
      ]
    },
    {
      "cell_type": "code",
      "execution_count": null,
      "metadata": {
        "id": "4OsK1kB9GJhT"
      },
      "outputs": [],
      "source": [
        "\n",
        "# set simulation parameters\n",
        "Natoms = 500\n",
        "Nframes = 1000 # number of time steps to simulate\n",
        "dt = 1E-5 # s\n",
        "T=300 # Kelvin\n",
        "Ratom = 0.003 # meters -- grossly exagerated\n",
        "L = 1 # meters\n",
        "\n",
        "# Run the simulator to get data (takes about 1m for 5000 steps with 500 atoms)\n",
        "poslist_frames, plist_frames, wall_dp_frames = simulate_gas(Natoms=Natoms, Nframes=Nframes, Ratom=Ratom, L = L, dt=dt, T=T, start_half=True)"
      ]
    },
    {
      "cell_type": "code",
      "execution_count": null,
      "metadata": {
        "id": "PnmXqKObJdR6"
      },
      "outputs": [],
      "source": [
        "# visualize\n",
        "\n",
        "animate_gas(poslist_frames[:100], Ratom_anim=Ratom, L_anim=L) # first 100 frames, pretty slow to make movie for more"
      ]
    },
    {
      "cell_type": "markdown",
      "metadata": {
        "id": "-EfpBZ30GT_M"
      },
      "source": [
        "## Density Fluctuations and equilibrium (time fluctuations) (pre-class)\n",
        "\n",
        "In this section, you will generate data for a gas expanding starting from all particles on the left hand side of the box, visualize it, and describe the approach to equilibrium and the statistical fluctuations."
      ]
    },
    {
      "cell_type": "markdown",
      "metadata": {
        "id": "623dUm4PIBkc"
      },
      "source": [
        "### Coarse-grain positions at each timestep\n",
        "Write code to coarse-grain the positions of the atoms at each time step to a single variable: the number of atoms on the left side of the box (x<1/2) at that time"
      ]
    },
    {
      "cell_type": "code",
      "execution_count": null,
      "metadata": {
        "id": "vvzGI0XyG4ak"
      },
      "outputs": [],
      "source": [
        "# your code here"
      ]
    },
    {
      "cell_type": "markdown",
      "metadata": {
        "id": "cWdqY5tDIJhU"
      },
      "source": [
        "### Visualize fluctuations\n",
        "\n",
        "1. Plot a time-graph of the number of atoms on the left side of the box (n vs t). (see plt.plot https://matplotlib.org/3.1.1/api/_as_gen/matplotlib.pyplot.plot.html)\n",
        "2. Roughly how many time steps does it take until the system reaches equilibrium?\n",
        "3. Plot a histogram of the number of atoms on the left hand side for the first 500 timesteps, and a a separate one for the rest of the timesteps. Describe the differences between them. (see plt.hist https://matplotlib.org/3.1.1/api/_as_gen/matplotlib.pyplot.hist.html -- use \"density = True\" to get a normalized probability distribution)\n",
        "4. Verify that the equilibrium distribution is well described by a Gaussian fit with an appropriately chosen mean and standard deviation (fitting by eye is fine, you should be able to calculate the standard deviation from our work on random walks / central limit theorem last week.).\n",
        "5. Do your results for the Gaussian fit verify the central limit theorem? What happens to your fit if you increase the number of time steps (frames) in the simulation?\n"
      ]
    },
    {
      "cell_type": "code",
      "execution_count": null,
      "metadata": {
        "id": "fgqQ5BQNH0jz"
      },
      "outputs": [],
      "source": [
        "\n",
        "# code to plot the n vs t graph\n",
        "# <your code>\n",
        "plt.show()\n",
        "\n",
        "# code to plot the histogram\n",
        "# <your code>\n",
        "# plotting a gaussian for comparision:\n",
        "plt.plot(np.arange(0,500), scipy.stats.norm(loc=250, scale=np.sqrt(500)/2).pdf(np.arange(0,500))) # loc=mean, scale=std dev\n",
        "plt.show()"
      ]
    }
  ],
  "metadata": {
    "colab": {
      "collapsed_sections": [
        "WfLUGNnMFRqf",
        "pX-2UAbDF2UE",
        "6VWsFhbsGy5b",
        "-EfpBZ30GT_M"
      ],
      "include_colab_link": true,
      "name": "Ideal Gas Simulator - Preclass Work.ipynb",
      "provenance": []
    },
    "kernelspec": {
      "display_name": "Python 3",
      "name": "python3"
    }
  },
  "nbformat": 4,
  "nbformat_minor": 0
}
