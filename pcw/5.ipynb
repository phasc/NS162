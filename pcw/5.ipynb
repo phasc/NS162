{
  "cells": [
    {
      "cell_type": "code",
      "execution_count": 37,
      "metadata": {
        "id": "EkQnGpz9E91e"
      },
      "outputs": [],
      "source": [
        "import numpy as np\n",
        "from numpy.random import random\n",
        "from numpy import sqrt, sin,cos, pi, array, dot\n",
        "import matplotlib.pyplot as plt\n",
        "\n",
        "import matplotlib\n",
        "import scipy.stats\n",
        "\n",
        "import time\n",
        "from time import perf_counter as clock\n",
        "\n",
        "from matplotlib import animation, rc\n",
        "from IPython.display import HTML\n",
        "import tempfile; tempfile.tempdir='./'\n",
        "\n",
        "try:\n",
        "  import google.colab\n",
        "  IN_COLAB = True\n",
        "except:\n",
        "  IN_COLAB = False"
      ]
    },
    {
      "cell_type": "markdown",
      "metadata": {
        "id": "WfLUGNnMFRqf"
      },
      "source": [
        "## Ideal gas simulator"
      ]
    },
    {
      "cell_type": "code",
      "execution_count": 38,
      "metadata": {
        "id": "My60FcyZFUg3"
      },
      "outputs": [],
      "source": [
        "# modified from https://github.com/vpython/visual/blob/master/examples/gas.py\n",
        "# converted to 2d, switched to pure numpy functions, visualization using matplotlib instead of vpython\n",
        "\n",
        "# A model of an ideal gas with hard-sphere collisions\n",
        "# Program uses Numeric Python arrays for high speed computations\n",
        "k = 1.4E-23 # Boltzmann constant\n",
        "Matom = 4E-3/6E23 # helium mass in kg\n",
        "\n",
        "def simulate_gas(Natoms=1000, Nframes=500,  T=300, L=1, Ratom=0.003,dt=1E-5, start_half=False, start_uneven_energy=False):\n",
        "# A model of an ideal gas with hard-sphere collisions\n",
        "# Nframes is number of timesteps of dt to simulate\n",
        "# T is temperature in K, L is box size in m, Ratom is atom radius in m, dt is timestep in seconds\n",
        "# Returns poslist_frames -- list of postions of all atoms at each frame\n",
        "#         plist_frames -- list of corresponding momenta of all atoms at each frame\n",
        "#         wall_dp_frames -- sum of absolute value of momenta transfer to all 4 walls during each frame\n",
        "    poslist = []\n",
        "    plist = []\n",
        "    mlist = []\n",
        "    rlist = []\n",
        "\n",
        "    # initialize the positions of the atoms\n",
        "    for i in range(Natoms):\n",
        "        Lmin = 1.1*Ratom\n",
        "        Lmax = L-Lmin\n",
        "        if (start_half): # start all of the atoms on the LHS of the box\n",
        "          x = Lmin+0.5*(Lmax-Lmin)*random()\n",
        "          y = Lmin+(Lmax-Lmin)*random()\n",
        "        else:\n",
        "          x = Lmin+(Lmax-Lmin)*random()\n",
        "          y = Lmin+(Lmax-Lmin)*random()\n",
        "    #   z = Lmin+(Lmax-Lmin)*random()\n",
        "        r = Ratom\n",
        "        mass = Matom*r**3/Ratom**3 # only would matter if we had different atom sizes\n",
        "        pavg = sqrt(2.*mass*1.*k*T) # average kinetic energy p**2/(2mass) = (2/2)kT (2d gas)\n",
        "        phi = 2*pi*random()\n",
        "        if (start_uneven_energy and i>Natoms/2):\n",
        "          px = 0\n",
        "          py = 0\n",
        "        else:\n",
        "          px = pavg*cos(phi)\n",
        "          py = pavg*sin(phi)\n",
        "    #    pz = pavg*cos(theta)\n",
        "        poslist.append((x,y))\n",
        "        plist.append((px,py))\n",
        "        mlist.append(mass)\n",
        "        rlist.append(r)\n",
        "\n",
        "    pos = array(poslist)\n",
        "    p = array(plist)\n",
        "    m = array(mlist)\n",
        "    m.shape = (Natoms,1) # Numeric Python: (1 by Natoms) vs. (Natoms by 1)\n",
        "    radius = array(rlist)\n",
        "\n",
        "    t = 0.0\n",
        "    Nsteps = 0\n",
        "    pos = pos+(p/m)*(dt/2.) # initial half-step\n",
        "    time = clock()\n",
        "\n",
        "    poslist_frames = [pos];\n",
        "    plist_frames = [p];\n",
        "    wall_dp_frames = [0];\n",
        "\n",
        "    while (Nsteps < Nframes):\n",
        "        # Update all positions\n",
        "        pos = pos+(p/m)*dt\n",
        "\n",
        "        r = pos-pos[:,np.newaxis] # all pairs of atom-to-atom vectors\n",
        "        rmag = sqrt(np.sum(r*r,-1)) # atom-to-atom scalar distances\n",
        "        hit = np.less_equal(rmag,radius+radius[:,np.newaxis])-np.identity(Natoms)\n",
        "        hitlist = np.sort(np.nonzero(hit.flatten())).tolist()[0]# i,j encoded as i*Natoms+j    \n",
        "        # If any collisions took place:\n",
        "\n",
        "        hitlist_nodups = hitlist\n",
        "        for ij in hitlist:\n",
        "            i, j = np.divmod(ij,Natoms) # decode atom pair\n",
        "            hitlist_nodups.remove(j*Natoms+i) # remove symmetric j,i pair from list\n",
        "\n",
        "        for ij in hitlist_nodups:\n",
        "            i, j = np.divmod(ij,Natoms) # decode atom pair\n",
        "            #print(i,j, np.sqrt(np.sum((pos[i]-pos[j])**2)))\n",
        "            ptot = p[i]+p[j]\n",
        "            mi = m[i,0]\n",
        "            mj = m[j,0]\n",
        "            vi = p[i]/mi\n",
        "            vj = p[j]/mj\n",
        "            ri = radius[i]\n",
        "            rj = radius[j]\n",
        "            a = np.linalg.norm(vj-vi)**2\n",
        "            if a == 0: continue # exactly same velocities\n",
        "            b = 2*dot(pos[i]-pos[j],vj-vi)\n",
        "            c = np.linalg.norm(pos[i]-pos[j])**2-(ri+rj)**2\n",
        "            d = b**2-4.*a*c\n",
        "            if d < 0: continue # something wrong; ignore this rare case\n",
        "            deltat = (-b+sqrt(d))/(2.*a) # t-deltat is when they made contact\n",
        "            pos[i] = pos[i]-(p[i]/mi)*deltat # back up to contact configuration\n",
        "            pos[j] = pos[j]-(p[j]/mj)*deltat\n",
        "            mtot = mi+mj\n",
        "            pcmi = p[i]-ptot*mi/mtot # transform momenta to cm frame\n",
        "            pcmj = p[j]-ptot*mj/mtot\n",
        "            rrel = (pos[j]-pos[i])/np.linalg.norm(pos[j]-pos[i])\n",
        "            #print(pcmi,pcmj, rrel)\n",
        "            #print(dot(pcmi,rrel))\n",
        "            pcmi = pcmi-2*dot(pcmi,rrel)*rrel # bounce in cm frame\n",
        "            pcmj = pcmj-2*dot(pcmj,rrel)*rrel\n",
        "            #print(pcmi,pcmj)\n",
        "            #print(p[i],p[j],pos[i],pos[j])\n",
        "            p[i] = pcmi+ptot*mi/mtot # transform momenta back to lab frame\n",
        "            p[j] = pcmj+ptot*mj/mtot\n",
        "            pos[i] = pos[i]+(p[i]/mi)*deltat # move forward deltat in time\n",
        "            pos[j] = pos[j]+(p[j]/mj)*deltat\n",
        "            #print(p[i],p[j],pos[i],pos[j])\n",
        "\n",
        "\n",
        "        # Bounce off walls\n",
        "        wall_dp = 0\n",
        "\n",
        "        outside = np.less_equal(pos,Ratom) # walls closest to origin\n",
        "        p1 = p*outside\n",
        "        pnew = p-p1+abs(p1)\n",
        "        wall_dp += np.sum(abs(p - pnew)) #calculate contributions to pressure        \n",
        "        p = pnew # force p component inward\n",
        "\n",
        "        outside = np.greater_equal(pos,L-Ratom) # walls farther from origin\n",
        "        p1 = p*outside\n",
        "        pnew = p-p1-abs(p1) # force p component inward\n",
        "        wall_dp += np.sum(abs(p - pnew)) #calculate contributions to pressure        \n",
        "        p = pnew # force p component inward\n",
        "\n",
        "        poslist_frames.append(pos) # save the positions for this frame\n",
        "        wall_dp_frames.append(wall_dp) # save the momentum transfer to the wall\n",
        "        plist_frames.append(p)\n",
        "\n",
        "        Nsteps = Nsteps+1\n",
        "        t = t+dt\n",
        "\n",
        "        if Nsteps%50==0:\n",
        "            print('%3.1f seconds for %d steps with %d Atoms' % (clock()-time, Nsteps, Natoms))\n",
        "    ##    rate(30)\n",
        "\n",
        "    return poslist_frames, plist_frames, wall_dp_frames"
      ]
    },
    {
      "cell_type": "markdown",
      "metadata": {
        "id": "pX-2UAbDF2UE"
      },
      "source": [
        "## Simulator animations\n",
        "\n",
        "You can verify that the simulator is working by creating a movie of it's time updates, no need to write any code here."
      ]
    },
    {
      "cell_type": "code",
      "execution_count": 39,
      "metadata": {
        "id": "1_SaTulJFp9v"
      },
      "outputs": [],
      "source": [
        "# matplotlib jupyter animations based on http://louistiao.me/posts/notebooks/embedding-matplotlib-animations-in-jupyter-notebooks/\n",
        "\n",
        "def animate_gas(poslist_frames,Ratom_anim = 0.003, L_anim = 1):\n",
        "    # Generate animation\n",
        "    width = 4 # width of plot in inches\n",
        "\n",
        "    # set-up figure and ax\n",
        "    fig, ax = plt.subplots(figsize=(width,width))\n",
        "    ax.set_xlim((0, 1))\n",
        "    ax.set_ylim((0, 1))\n",
        "    simgraph = ax.scatter([], [])\n",
        "\n",
        "    # convert atom size to figure units\n",
        "    t = ax.transAxes.transform([(0,0), (Ratom_anim,Ratom_anim)])\n",
        "    Ratom_pts = (t[1,1]-t[0,0]) * 72/fig.dpi\n",
        "    s_circ = (Ratom_pts * 2)**2\n",
        "\n",
        "    def init_model():\n",
        "        ax.set_xlim((0, 1))\n",
        "        ax.set_ylim((0, 1))\n",
        "        simgraph = ax.scatter([], [])\n",
        "        return (simgraph,)\n",
        "\n",
        "    def animate_model(i):\n",
        "        ax.clear()\n",
        "        ax.set_xlim((0, 1))\n",
        "        ax.set_ylim((0, 1))\n",
        "        simgraph = ax.scatter(poslist_frames[i][:,0], poslist_frames[i][:,1], s=s_circ)\n",
        "        return (simgraph,)\n",
        "\n",
        "    print(\"here is first frame, when ready may need to click 'fetch additional output' to watch movie:\")\n",
        "    animate_model(1)\n",
        "    plt.show()\n",
        "\n",
        "    # run to generate the html5 video of the positions\n",
        "    # (takes about 30s for 100 frames)\n",
        "    # click 'Fetch additional output to see'\n",
        "    anim = animation.FuncAnimation(fig, animate_model, init_func=init_model,\n",
        "                                  frames=len(poslist_frames), interval=40)\n",
        "    \n",
        "    if IN_COLAB: # colab\n",
        "      return HTML(anim.to_html5_video())\n",
        "    else: # cocalc\n",
        "      fname = tempfile.mktemp('.gif')\n",
        "      print(fname)\n",
        "      anim.save(fname)\n",
        "      time.sleep(0.1) # make sure file is saved\n",
        "      return display(HTML(\"\"\"\n",
        "                  <image style=\"width:200\" src=\"{}\" >\n",
        "                  \"\"\".format(fname)))\n"
      ]
    },
    {
      "cell_type": "code",
      "execution_count": 40,
      "metadata": {
        "colab": {
          "base_uri": "https://localhost:8080/",
          "height": 668
        },
        "id": "ucL4Fq9bQxQr",
        "outputId": "65ca553d-a43d-49a7-db8a-b59ebc32e3f1"
      },
      "outputs": [
        {
          "name": "stdout",
          "output_type": "stream",
          "text": [
            "0.0 seconds for 50 steps with 100 Atoms\n",
            "0.0 seconds for 100 steps with 100 Atoms\n",
            "here is first frame, when ready may need to click 'fetch additional output' to watch movie:\n"
          ]
        },
        {
          "data": {
            "image/png": "[encoded data removed]",
            "text/plain": [
              "<Figure size 288x288 with 1 Axes>"
            ]
          },
          "metadata": {
            "needs_background": "light"
          },
          "output_type": "display_data"
        },
        {
          "name": "stderr",
          "output_type": "stream",
          "text": [
            "MovieWriter ffmpeg unavailable; using Pillow instead.\n"
          ]
        },
        {
          "name": "stdout",
          "output_type": "stream",
          "text": [
            "./tmp9ymy2jor.gif\n"
          ]
        },
        {
          "data": {
            "text/html": [
              "\n",
              "                  <image style=\"width:200\" src=\"./tmp9ymy2jor.gif\" >\n",
              "                  "
            ],
            "text/plain": [
              "<IPython.core.display.HTML object>"
            ]
          },
          "metadata": {},
          "output_type": "display_data"
        }
      ],
      "source": [
        "# example:\n",
        "\n",
        "Natoms = 100\n",
        "Nframes = 100\n",
        "\n",
        "Ratom = 0.003\n",
        "L = 1\n",
        "\n",
        "# Run the model\n",
        "poslist_frames, plist_frames, wall_dp_frames = simulate_gas(Natoms=Natoms, Nframes=Nframes, Ratom=Ratom, L = L)\n",
        "\n",
        "animate_gas(poslist_frames[:100], Ratom_anim=Ratom, L_anim = L) # best practice, only visualize 100 frames or movie takes a long time to generate"
      ]
    },
    {
      "cell_type": "markdown",
      "metadata": {
        "id": "6VWsFhbsGy5b"
      },
      "source": [
        "## Get data from simulation and visualize\n"
      ]
    },
    {
      "cell_type": "code",
      "execution_count": 41,
      "metadata": {
        "colab": {
          "base_uri": "https://localhost:8080/"
        },
        "id": "4OsK1kB9GJhT",
        "outputId": "5c105d03-bc5c-4f8b-d673-6a5aa4e0f49d"
      },
      "outputs": [
        {
          "name": "stdout",
          "output_type": "stream",
          "text": [
            "0.7 seconds for 50 steps with 500 Atoms\n",
            "1.3 seconds for 100 steps with 500 Atoms\n",
            "2.0 seconds for 150 steps with 500 Atoms\n",
            "2.6 seconds for 200 steps with 500 Atoms\n",
            "3.3 seconds for 250 steps with 500 Atoms\n",
            "3.9 seconds for 300 steps with 500 Atoms\n",
            "4.5 seconds for 350 steps with 500 Atoms\n",
            "5.1 seconds for 400 steps with 500 Atoms\n",
            "5.7 seconds for 450 steps with 500 Atoms\n",
            "6.3 seconds for 500 steps with 500 Atoms\n",
            "6.8 seconds for 550 steps with 500 Atoms\n",
            "7.4 seconds for 600 steps with 500 Atoms\n",
            "8.0 seconds for 650 steps with 500 Atoms\n",
            "8.6 seconds for 700 steps with 500 Atoms\n",
            "9.2 seconds for 750 steps with 500 Atoms\n",
            "9.7 seconds for 800 steps with 500 Atoms\n",
            "10.3 seconds for 850 steps with 500 Atoms\n",
            "11.1 seconds for 900 steps with 500 Atoms\n",
            "11.9 seconds for 950 steps with 500 Atoms\n",
            "12.5 seconds for 1000 steps with 500 Atoms\n"
          ]
        }
      ],
      "source": [
        "\n",
        "# set simulation parameters\n",
        "Natoms = 500\n",
        "Nframes = 1000\n",
        "dt = 1E-5 # s\n",
        "T=300 # Kelvin\n",
        "Ratom = 0.003 # meters -- grossly exagerated\n",
        "L = 1 # meters\n",
        "\n",
        "# Run the simulator to get data (takes about 1m for 5000 steps with 500 atoms)\n",
        "poslist_frames, plist_frames, wall_dp_frames = simulate_gas(Natoms=Natoms, Nframes=Nframes, Ratom=Ratom, L = L, dt=dt, T=T, start_half=True)"
      ]
    },
    {
      "cell_type": "code",
      "execution_count": 42,
      "metadata": {
        "colab": {
          "base_uri": "https://localhost:8080/",
          "height": 579
        },
        "id": "PnmXqKObJdR6",
        "outputId": "71e42b36-03fc-4f76-f854-1f555e53a123"
      },
      "outputs": [
        {
          "name": "stdout",
          "output_type": "stream",
          "text": [
            "here is first frame, when ready may need to click 'fetch additional output' to watch movie:\n"
          ]
        },
        {
          "data": {
            "image/png": "[encoded data removed]",
            "text/plain": [
              "<Figure size 288x288 with 1 Axes>"
            ]
          },
          "metadata": {
            "needs_background": "light"
          },
          "output_type": "display_data"
        },
        {
          "name": "stderr",
          "output_type": "stream",
          "text": [
            "MovieWriter ffmpeg unavailable; using Pillow instead.\n"
          ]
        },
        {
          "name": "stdout",
          "output_type": "stream",
          "text": [
            "./tmpf2m5_loi.gif\n"
          ]
        },
        {
          "data": {
            "text/html": [
              "\n",
              "                  <image style=\"width:200\" src=\"./tmpf2m5_loi.gif\" >\n",
              "                  "
            ],
            "text/plain": [
              "<IPython.core.display.HTML object>"
            ]
          },
          "metadata": {},
          "output_type": "display_data"
        }
      ],
      "source": [
        "# visualize\n",
        "\n",
        "animate_gas(poslist_frames[:100], Ratom_anim=Ratom, L_anim=L) # first 100 frames, pretty slow to make movie for more"
      ]
    },
    {
      "cell_type": "markdown",
      "metadata": {
        "id": "U5CIcHF32xP8"
      },
      "source": [
        "## Energy Coarse-graining (pre-class)\n",
        "\n",
        "0. Run the simulator with N=500 atoms and 1000 timesteps (frames).\n",
        "\n",
        "1. Write a function that coarse-grains each configuration of the atoms to just the total energy of all the atoms. Plot this energy as a function of time, and explain its behavior. (Each atom's energy is given by (px^2+py^2)/2m ) \n",
        "\n",
        "2. Write a function that takes the first M atoms in the list and coarse-grains them by adding up their energy. Plot the energies as a function of time for M=1,10,100. Explain the differences in behavior."
      ]
    },
    {
      "cell_type": "code",
      "execution_count": 52,
      "metadata": {
        "colab": {
          "base_uri": "https://localhost:8080/"
        },
        "id": "3tQAYtWz6usd",
        "outputId": "ccb40a05-2ce0-4dde-f32c-2c6ca225f33f"
      },
      "outputs": [
        {
          "name": "stdout",
          "output_type": "stream",
          "text": [
            "0.6 seconds for 50 steps with 500 Atoms\n",
            "1.1 seconds for 100 steps with 500 Atoms\n",
            "1.7 seconds for 150 steps with 500 Atoms\n",
            "2.2 seconds for 200 steps with 500 Atoms\n",
            "2.7 seconds for 250 steps with 500 Atoms\n",
            "3.2 seconds for 300 steps with 500 Atoms\n",
            "3.8 seconds for 350 steps with 500 Atoms\n",
            "4.3 seconds for 400 steps with 500 Atoms\n",
            "4.9 seconds for 450 steps with 500 Atoms\n",
            "5.5 seconds for 500 steps with 500 Atoms\n",
            "6.0 seconds for 550 steps with 500 Atoms\n",
            "6.5 seconds for 600 steps with 500 Atoms\n",
            "7.1 seconds for 650 steps with 500 Atoms\n",
            "7.6 seconds for 700 steps with 500 Atoms\n",
            "8.1 seconds for 750 steps with 500 Atoms\n",
            "8.7 seconds for 800 steps with 500 Atoms\n",
            "9.2 seconds for 850 steps with 500 Atoms\n",
            "9.7 seconds for 900 steps with 500 Atoms\n",
            "10.3 seconds for 950 steps with 500 Atoms\n",
            "10.9 seconds for 1000 steps with 500 Atoms\n"
          ]
        }
      ],
      "source": [
        "# set simulation parameters\n",
        "Natoms = 500\n",
        "Nframes = 1000\n",
        "dt = 1E-5 # s\n",
        "T=300 # Kelvin\n",
        "Ratom = 0.003 # meters -- grossly exagerated\n",
        "L = 1 # meters\n",
        "\n",
        "# Run the simulator to get data (takes about 1m for 5000 steps with 500 atoms)\n",
        "poslist_frames, plist_frames, wall_dp_frames = simulate_gas(Natoms=Natoms, Nframes=Nframes, Ratom=Ratom, L = L, dt=dt, T=T, start_half=True)"
      ]
    },
    {
      "cell_type": "code",
      "execution_count": 53,
      "metadata": {
        "id": "q5IvUWkiiM4P"
      },
      "outputs": [
        {
          "data": {
            "image/png": "[encoded data removed]",
            "text/plain": [
              "<Figure size 432x288 with 1 Axes>"
            ]
          },
          "metadata": {
            "needs_background": "light"
          },
          "output_type": "display_data"
        }
      ],
      "source": [
        "def cg(pl):\n",
        "    l = []\n",
        "    for i in pl:\n",
        "        e = 0\n",
        "        for j in i:\n",
        "            e += (j[0]**2 + j[1]**2)/(2*Matom)\n",
        "        l.append(e)\n",
        "\n",
        "    return l\n",
        "\n",
        "plt.plot(range(1001),cg(plist_frames))\n",
        "plt.show()\n",
        "            "
      ]
    },
    {
      "cell_type": "code",
      "execution_count": 51,
      "metadata": {},
      "outputs": [
        {
          "data": {
            "image/png": "[encoded data removed]",
            "text/plain": [
              "<Figure size 432x288 with 1 Axes>"
            ]
          },
          "metadata": {
            "needs_background": "light"
          },
          "output_type": "display_data"
        }
      ],
      "source": [
        "def cgM(pl, M):\n",
        "    l = []\n",
        "    for i in pl:\n",
        "        e = 0\n",
        "        for j in range(M):\n",
        "            e += (i[j][0]**2 + i[j][1]**2)/(2*Matom)\n",
        "        l.append(e)\n",
        "\n",
        "    return l\n",
        "\n",
        "plt.plot(range(1001),cgM(plist_frames, 1), label='M=1')\n",
        "plt.plot(range(1001),cgM(plist_frames, 10), label='M=10')\n",
        "plt.plot(range(1001),cgM(plist_frames, 100), label='M=100')\n",
        "\n",
        "plt.legend()\n",
        "plt.show()"
      ]
    },
    {
      "cell_type": "code",
      "execution_count": null,
      "metadata": {},
      "outputs": [],
      "source": []
    }
  ],
  "metadata": {
    "colab": {
      "collapsed_sections": [
        "-EfpBZ30GT_M",
        "MjqHYuDduRKH",
        "fI0-Cu2B2Hfk"
      ],
      "name": "Copy of Ideal Gas Simulator - Energy Preclass.ipynb",
      "provenance": []
    },
    "kernelspec": {
      "display_name": "Python 3",
      "name": "python3"
    },
    "language_info": {
      "codemirror_mode": {
        "name": "ipython",
        "version": 3
      },
      "file_extension": ".py",
      "mimetype": "text/x-python",
      "name": "python",
      "nbconvert_exporter": "python",
      "pygments_lexer": "ipython3",
      "version": "3.8.8"
    }
  },
  "nbformat": 4,
  "nbformat_minor": 0
}
